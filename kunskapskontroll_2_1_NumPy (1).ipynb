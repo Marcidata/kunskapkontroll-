{
 "cells": [
  {
   "cell_type": "markdown",
   "id": "dacf74e6",
   "metadata": {},
   "source": [
    "# NumPy"
   ]
  },
  {
   "cell_type": "markdown",
   "id": "01b2bf34",
   "metadata": {},
   "source": [
    "Read the links: https://numpy.org/doc/stable/user/quickstart.html  and https://numpy.org/doc/stable/user/basics.broadcasting.html  before solving the exercises. "
   ]
  },
  {
   "cell_type": "code",
   "execution_count": 1,
   "id": "1f79e4a6",
   "metadata": {},
   "outputs": [],
   "source": [
    "import numpy as np"
   ]
  },
  {
   "cell_type": "markdown",
   "id": "7dae6889",
   "metadata": {},
   "source": [
    "### Print out the dimension (number of axes), shape, size and the datatype of the matrix A."
   ]
  },
  {
   "cell_type": "code",
   "execution_count": 9,
   "id": "7b3678cd",
   "metadata": {},
   "outputs": [],
   "source": [
    "A = np.arange(1, 16).reshape(3,5)"
   ]
  },
  {
   "cell_type": "code",
   "execution_count": 13,
   "id": "31d39235",
   "metadata": {},
   "outputs": [
    {
     "name": "stdout",
     "output_type": "stream",
     "text": [
      "Dimension (Number of Axes): 2\n",
      "Shape: (3, 5)\n",
      "Size (Number of Elements): 15\n",
      "Datatype: int64\n"
     ]
    }
   ],
   "source": [
    "#Print information\n",
    "print(\"Dimension (Number of Axes):\", A.ndim)\n",
    "print(\"Shape:\", A.shape)\n",
    "print(\"Size (Number of Elements):\", A.size)\n",
    "print(\"Datatype:\", A.dtype)\n"
   ]
  },
  {
   "cell_type": "markdown",
   "id": "e56d2a96",
   "metadata": {},
   "source": [
    "### Do the following computations on the matrices B and C: \n",
    "* Elementwise subtraction. \n",
    "* Elementwise multiplication. \n",
    "* Matrix multiplication (by default you should use the @ operator)."
   ]
  },
  {
   "cell_type": "code",
   "execution_count": 5,
   "id": "a7053fbb",
   "metadata": {},
   "outputs": [
    {
     "name": "stdout",
     "output_type": "stream",
     "text": [
      "[[1 2 3]\n",
      " [4 5 6]\n",
      " [7 8 9]]\n",
      "\n",
      "[[2. 2. 2.]\n",
      " [2. 2. 2.]\n",
      " [2. 2. 2.]]\n"
     ]
    }
   ],
   "source": [
    "B = np.arange(1, 10).reshape(3, 3)\n",
    "C = np.ones((3, 3))*2\n",
    "\n",
    "print(B)\n",
    "print()\n",
    "print(C)"
   ]
  },
  {
   "cell_type": "code",
   "execution_count": 7,
   "id": "3cd794ae",
   "metadata": {},
   "outputs": [
    {
     "name": "stdout",
     "output_type": "stream",
     "text": [
      "Elementwise Subtraction (B - C):\n",
      "[[-1.  0.  1.]\n",
      " [ 2.  3.  4.]\n",
      " [ 5.  6.  7.]]\n",
      "\n",
      "Elementwise Multiplication (B * C):\n",
      "[[ 2.  4.  6.]\n",
      " [ 8. 10. 12.]\n",
      " [14. 16. 18.]]\n",
      "\n",
      "Matrix Multiplication (B @ C):\n",
      "[[12. 12. 12.]\n",
      " [30. 30. 30.]\n",
      " [48. 48. 48.]]\n"
     ]
    }
   ],
   "source": [
    "# Elementwise subtraction\n",
    "subtraction = B - C\n",
    "print(\"Elementwise Subtraction (B - C):\")\n",
    "print(subtraction)\n",
    "print()\n",
    "\n",
    "# Elementwise multiplication\n",
    "elementwise_multiplication = B * C\n",
    "print(\"Elementwise Multiplication (B * C):\")\n",
    "print(elementwise_multiplication)\n",
    "print()\n",
    "\n",
    "# Matrix multiplication\n",
    "matrix_multiplication = B @ C\n",
    "print(\"Matrix Multiplication (B @ C):\")\n",
    "print(matrix_multiplication)"
   ]
  },
  {
   "cell_type": "markdown",
   "id": "96030d53",
   "metadata": {},
   "source": [
    "### Do the following calculations on the matrix:\n",
    "* Exponentiate each number elementwise (use the np.exp function).\n",
    "\n",
    "* Calculate the minimum value in the whole matrix. \n",
    "* Calculcate the minimum value in each row. \n",
    "* Calculcate the minimum value in each column. \n",
    "\n",
    "\n",
    "* Find the index value for the minimum value in the whole matrix (hint: use np.argmin).\n",
    "* Find the index value for the minimum value in each row (hint: use np.argmin).\n",
    "\n",
    "\n",
    "* Calculate the sum for all elements.\n",
    "* Calculate the mean for each column. \n",
    "* Calculate the median for each column. "
   ]
  },
  {
   "cell_type": "code",
   "execution_count": 15,
   "id": "f8a9166b",
   "metadata": {},
   "outputs": [
    {
     "name": "stdout",
     "output_type": "stream",
     "text": [
      "[[1 2 3]\n",
      " [4 5 6]\n",
      " [7 8 9]]\n"
     ]
    }
   ],
   "source": [
    "B = np.arange(1, 10).reshape(3, 3)\n",
    "print(B)"
   ]
  },
  {
   "cell_type": "code",
   "execution_count": 17,
   "id": "f03f24f7",
   "metadata": {},
   "outputs": [
    {
     "name": "stdout",
     "output_type": "stream",
     "text": [
      "Exponentiated Matrix (np.exp(B)):\n",
      "[[2.71828183e+00 7.38905610e+00 2.00855369e+01]\n",
      " [5.45981500e+01 1.48413159e+02 4.03428793e+02]\n",
      " [1.09663316e+03 2.98095799e+03 8.10308393e+03]]\n",
      "\n",
      "Minimum Value in the Whole Matrix:\n",
      "1\n",
      "\n",
      "Minimum Value in Each Row:\n",
      "[1 4 7]\n",
      "\n",
      "Minimum Value in Each Column:\n",
      "[1 2 3]\n",
      "\n",
      "Index of the Minimum Value in the Whole Matrix:\n",
      "0\n",
      "\n",
      "Index of the Minimum Value in Each Row:\n",
      "[0 0 0]\n",
      "\n",
      "Sum of All Elements:\n",
      "45\n",
      "\n",
      "Mean for Each Column:\n",
      "[4. 5. 6.]\n",
      "\n",
      "Median for Each Column:\n",
      "[4. 5. 6.]\n"
     ]
    }
   ],
   "source": [
    "# Exponentiate each number elementwise (use the np.exp function).\n",
    "exp_B = np.exp(B)\n",
    "print(\"Exponentiated Matrix (np.exp(B)):\")\n",
    "print(exp_B)\n",
    "print()\n",
    "\n",
    "# Calculate the minimum value in the whole matrix.\n",
    "min_value = np.min(B)\n",
    "print(\"Minimum Value in the Whole Matrix:\")\n",
    "print(min_value)\n",
    "print()\n",
    "\n",
    "# Calculate the minimum value in each row.\n",
    "min_each_row = np.min(B, axis=1)\n",
    "print(\"Minimum Value in Each Row:\")\n",
    "print(min_each_row)\n",
    "print()\n",
    "\n",
    "# Calculate the minimum value in each column.\n",
    "min_each_column = np.min(B, axis=0)\n",
    "print(\"Minimum Value in Each Column:\")\n",
    "print(min_each_column)\n",
    "print()\n",
    "\n",
    "# Find the index of the minimum value in the whole matrix (hint: use np.argmin).\n",
    "index_min_value = np.argmin(B)\n",
    "print(\"Index of the Minimum Value in the Whole Matrix:\")\n",
    "print(index_min_value)\n",
    "print()\n",
    "\n",
    "# Find the index of the minimum value in each row (hint: use np.argmin).\n",
    "index_min_each_row = np.argmin(B, axis=1)\n",
    "print(\"Index of the Minimum Value in Each Row:\")\n",
    "print(index_min_each_row)\n",
    "print()\n",
    "\n",
    "# Calculate the sum for all elements.\n",
    "sum_elements = np.sum(B)\n",
    "print(\"Sum of All Elements:\")\n",
    "print(sum_elements)\n",
    "print()\n",
    "\n",
    "# Calculate the mean for each column.\n",
    "mean_each_column = np.mean(B, axis=0)\n",
    "print(\"Mean for Each Column:\")\n",
    "print(mean_each_column)\n",
    "print()\n",
    "\n",
    "# Calculate the median for each column.\n",
    "median_each_column = np.median(B, axis=0)\n",
    "print(\"Median for Each Column:\")\n",
    "print(median_each_column)"
   ]
  },
  {
   "cell_type": "markdown",
   "id": "541eb7ba",
   "metadata": {},
   "source": [
    "### What does it mean when you provide fewer indices than axes when slicing? See example below."
   ]
  },
  {
   "cell_type": "code",
   "execution_count": 19,
   "id": "9c8abf56",
   "metadata": {},
   "outputs": [
    {
     "name": "stdout",
     "output_type": "stream",
     "text": [
      "[[ 1  2  3  4  5]\n",
      " [ 6  7  8  9 10]\n",
      " [11 12 13 14 15]]\n"
     ]
    }
   ],
   "source": [
    "print(A)"
   ]
  },
  {
   "cell_type": "code",
   "execution_count": 21,
   "id": "69415f7b",
   "metadata": {},
   "outputs": [
    {
     "data": {
      "text/plain": [
       "array([ 6,  7,  8,  9, 10])"
      ]
     },
     "execution_count": 21,
     "metadata": {},
     "output_type": "execute_result"
    }
   ],
   "source": [
    "A[1]"
   ]
  },
  {
   "cell_type": "markdown",
   "id": "6c53541b",
   "metadata": {},
   "source": [
    "**Answer:**"
   ]
  },
  {
   "cell_type": "code",
   "execution_count": null,
   "id": "de01e120",
   "metadata": {},
   "outputs": [],
   "source": [
    "När man använder färre index än vad matrisen har axlar, betyder det att man bara anger en del av informationen.\n",
    "I exemplet `A[1]` hämtar man hela den andra raden i matrisen, eftersom man bara angav radindex (1).\n",
    "Om man också vill hämta en specifik kolumn i den raden, måste man lägga till kolumnindex, t.ex. `A[1, 2]`."
   ]
  },
  {
   "cell_type": "markdown",
   "id": "6652d0c9",
   "metadata": {},
   "source": [
    "### Iterating over multidimensional arrays is done with respect to the first axis, so in the example below we iterate trough the rows. If you would like to iterate through the array *elementwise*, how would you do that?"
   ]
  },
  {
   "cell_type": "code",
   "execution_count": 25,
   "id": "9459864f",
   "metadata": {},
   "outputs": [
    {
     "data": {
      "text/plain": [
       "array([[ 1,  2,  3,  4,  5],\n",
       "       [ 6,  7,  8,  9, 10],\n",
       "       [11, 12, 13, 14, 15]])"
      ]
     },
     "execution_count": 25,
     "metadata": {},
     "output_type": "execute_result"
    }
   ],
   "source": [
    "A"
   ]
  },
  {
   "cell_type": "code",
   "execution_count": 23,
   "id": "a671bb5a",
   "metadata": {},
   "outputs": [
    {
     "name": "stdout",
     "output_type": "stream",
     "text": [
      "[1 2 3 4 5]\n",
      "[ 6  7  8  9 10]\n",
      "[11 12 13 14 15]\n"
     ]
    }
   ],
   "source": [
    "for i in A:\n",
    "    print(i)"
   ]
  },
  {
   "cell_type": "code",
   "execution_count": 27,
   "id": "f4e443a0",
   "metadata": {},
   "outputs": [
    {
     "name": "stdout",
     "output_type": "stream",
     "text": [
      "1\n",
      "2\n",
      "3\n",
      "4\n",
      "5\n",
      "6\n",
      "7\n",
      "8\n",
      "9\n",
      "10\n",
      "11\n",
      "12\n",
      "13\n",
      "14\n",
      "15\n"
     ]
    }
   ],
   "source": [
    "# det är bättre att använda **`np.nditer`** för att enkelt iterera genom alla element i en array.\n",
    "for element in np.nditer(A):\n",
    "    print(element)\n"
   ]
  },
  {
   "cell_type": "markdown",
   "id": "608a2583",
   "metadata": {},
   "source": [
    "### Explain what the code below does. More specifically, b has three axes - what does this mean? "
   ]
  },
  {
   "cell_type": "code",
   "execution_count": 29,
   "id": "f8f9b26f",
   "metadata": {},
   "outputs": [
    {
     "name": "stdout",
     "output_type": "stream",
     "text": [
      "[ 0  1  2  3  4  5  6  7  8  9 10 11 12 13 14 15 16 17 18 19 20 21 22 23\n",
      " 24 25 26 27 28 29]\n",
      "\n",
      "[[[ 0  1  2  3  4]\n",
      "  [ 5  6  7  8  9]\n",
      "  [10 11 12 13 14]]\n",
      "\n",
      " [[15 16 17 18 19]\n",
      "  [20 21 22 23 24]\n",
      "  [25 26 27 28 29]]]\n"
     ]
    }
   ],
   "source": [
    "a = np.arange(30)\n",
    "b = a.reshape((2, 3, -1))\n",
    "print(a)\n",
    "print()\n",
    "\n",
    "print(b)"
   ]
  },
  {
   "cell_type": "code",
   "execution_count": null,
   "id": "863a45df",
   "metadata": {},
   "outputs": [],
   "source": [
    "Koden skapar en array med 30 tal och omformar den till en 3D-array (en matris som har både höjd, bredd och djup) med formen (2, 3, 5).\n",
    "Det betyder att arrayen har 3 axlar: 2 block, varje block har 3 rader, och varje rad har 5 tal. \n",
    "#(det finns 30 element, och de första två dimensionerna 2*3 tar 6 element,därför måste den sista dimensionen 30/6 ha 5 element)"
   ]
  },
  {
   "cell_type": "code",
   "execution_count": 31,
   "id": "eed38bbb-dd20-4d23-837f-679aa3d3a067",
   "metadata": {},
   "outputs": [
    {
     "name": "stdout",
     "output_type": "stream",
     "text": [
      "[ 0  1  2  3  4  5  6  7  8  9 10 11]\n",
      "\n",
      "[[[ 0  1  2]\n",
      "  [ 3  4  5]]\n",
      "\n",
      " [[ 6  7  8]\n",
      "  [ 9 10 11]]]\n"
     ]
    }
   ],
   "source": [
    "# Till example :\n",
    "import numpy as np\n",
    "a = np.arange(12)\n",
    "b = a.reshape(2, 2, 3)\n",
    "print(a)\n",
    "print()\n",
    "print(b)"
   ]
  },
  {
   "cell_type": "markdown",
   "id": "421c9607-819a-401d-949a-97424436fe29",
   "metadata": {},
   "source": [
    "# For the exercises below, read the document *\"matematik_yh_antonio_vektorer_matriser_utdrag\"*\n",
    "# Solutions to the exercises and recorded videos can be found here: https://github.com/AntonioPrgomet/matematik_foer_yh\n",
    "\n",
    "# If you find the exercises below very hard, do not worry. Try your best, that will be enough. "
   ]
  },
  {
   "cell_type": "markdown",
   "id": "ab5933d5",
   "metadata": {},
   "source": [
    "### Broadcasting\n",
    "**Read the following link about broadcasting: https://numpy.org/doc/stable/user/basics.broadcasting.html#basics-broadcasting**"
   ]
  },
  {
   "cell_type": "markdown",
   "id": "039805ba",
   "metadata": {},
   "source": [
    "# Remark on Broadcasting when doing Linear Algebra calculations in Python. "
   ]
  },
  {
   "cell_type": "markdown",
   "id": "c4bcc147",
   "metadata": {},
   "source": [
    "### From the mathematical rules of matrix addition, the operation below (m1 + m2) does not make sense. The reason is that matrix addition requires two matrices of the same size. In Python however, it works due to broadcasting rules in NumPy. So you must be careful when doing Linear Algebra calculations in Python since they do not follow the \"mathematical rules\". This can however easily be handled by doing some simple programming, for example validating that two matrices have the same shape is easy if you for instance want to add two matrices. "
   ]
  },
  {
   "cell_type": "code",
   "execution_count": 33,
   "id": "1fd46778",
   "metadata": {},
   "outputs": [
    {
     "name": "stdout",
     "output_type": "stream",
     "text": [
      "[[2 3]\n",
      " [4 5]]\n"
     ]
    }
   ],
   "source": [
    "m1 = np.array([[1, 2], [3, 4]])\n",
    "m2 = np.array([1, 1])\n",
    "print(m1 + m2)"
   ]
  },
  {
   "cell_type": "markdown",
   "id": "047d6576",
   "metadata": {},
   "source": [
    "### The example below would also not be allowed if following the \"mathematical rules\" in Linear Algebra. But it works due to broadcasting in NumPy. "
   ]
  },
  {
   "cell_type": "code",
   "execution_count": 35,
   "id": "5e6ef2e4",
   "metadata": {},
   "outputs": [
    {
     "name": "stdout",
     "output_type": "stream",
     "text": [
      "[2 3 4]\n"
     ]
    }
   ],
   "source": [
    "v1 = np.array([1, 2, 3])\n",
    "print(v1 + 1)"
   ]
  },
  {
   "cell_type": "code",
   "execution_count": 37,
   "id": "e2cbae26",
   "metadata": {},
   "outputs": [
    {
     "name": "stdout",
     "output_type": "stream",
     "text": [
      "[[1 2]\n",
      " [3 4]]\n",
      "[2 2]\n"
     ]
    }
   ],
   "source": [
    "A = np.arange(1, 5).reshape(2,2)\n",
    "print(A)\n",
    "\n",
    "b = np.array([2, 2])\n",
    "print(b)"
   ]
  },
  {
   "cell_type": "markdown",
   "id": "722fd5cd",
   "metadata": {},
   "source": [
    "# Vector- and matrix algebra Exercises"
   ]
  },
  {
   "cell_type": "markdown",
   "id": "b63a3081-d976-4d9f-bfd0-a63917e79f7d",
   "metadata": {},
   "source": [
    "**Now you are going to create a function that can be reused every time you add or multiply matrices. The function is created so that we do the addition and multiplication according to the rules of vector- and matrix algebra.**\n",
    "\n",
    "**Create a function \"add_mult_matrices\" that takes two matrices as input arguments (validate that the input are of the type numpy.ndarray by using the isinstance function), a third argument that is either 'add' or 'multiply' that specifies if you want to add or multiply the matrices (validate that the third argument is either 'add' or 'multiply'). When doing matrix addition, validate that the matrices have the same size. When doing matrix multiplication, validate that the sizes conform (i.e. number of columns in the first matrix is equal to the number of rows in the second matrix).**"
   ]
  },
  {
   "cell_type": "code",
   "execution_count": 39,
   "id": "3506f977-ac0a-473f-85bc-eec9f35dc498",
   "metadata": {},
   "outputs": [
    {
     "name": "stdout",
     "output_type": "stream",
     "text": [
      "Addition:\n",
      " [[ 5 10]\n",
      " [10 11]]\n",
      "Multiplikation:\n",
      " [[20 26]\n",
      " [32 42]]\n"
     ]
    }
   ],
   "source": [
    "import numpy as np\n",
    "\n",
    "# Steg 1: Skapa en funktion\n",
    "def add_mult_matrices(matrix1, matrix2, operation):\n",
    "    # Kontrollera om matriserna är numpy-arrayer\n",
    "    if not isinstance(matrix1, np.ndarray) or not isinstance(matrix2, np.ndarray):\n",
    "        return \"Båda matriserna måste vara numpy-arrayer\"\n",
    "    \n",
    "    # Kontrollera om operationen är giltig ('add' eller 'multiply')\n",
    "    if operation not in ['add', 'multiply']:\n",
    "        return \"Angiv 'add' för addition eller 'multiply' för multiplikation\"\n",
    "    \n",
    "    # Steg 2: Validera inmatningen\n",
    "    if operation == 'add':\n",
    "        # Kontrollera att matriserna har samma storlek\n",
    "        if matrix1.shape != matrix2.shape:\n",
    "            return \"Matriserna måste ha samma storlek för addition\"\n",
    "        return matrix1 + matrix2  # Utför addition\n",
    "    \n",
    "    # Steg 3: Utföra operationen\n",
    "    if operation == 'multiply':\n",
    "        # Kontrollera att antalet kolumner i första matrisen är lika med antalet rader i andra matrisen\n",
    "        if matrix1.shape[1] != matrix2.shape[0]:\n",
    "            return \"Antalet kolumner i första matrisen måste vara lika med antalet rader i andra matrisen\"\n",
    "        return np.dot(matrix1, matrix2)  # Utför matrismultiplikation med np.dot\n",
    "\n",
    "# Steg 4: Returnera resultatet\n",
    "X = np.array([[4, 7], [8, 5]])  # Matris för addition\n",
    "Y = np.array([[1, 3], [2, 6]])  # Matris för addition\n",
    "P = np.array([[2, 1, 3], [4, 1, 5]])  # Matris för multiplikation\n",
    "Q = np.array([[1, 2], [3, 4], [5, 6]])  # Matris för multiplikation\n",
    "\n",
    "# Steg 5: Använda funktionen\n",
    "print(\"Addition:\\n\", add_mult_matrices(X, Y, 'add'))\n",
    "print(\"Multiplikation:\\n\", add_mult_matrices(P, Q, 'multiply'))\n"
   ]
  },
  {
   "cell_type": "markdown",
   "id": "8dad82d0-2359-4dff-8f5b-a57d3e34103c",
   "metadata": {},
   "source": [
    "### Solve all the exercises in chapter 10.1 in the book \"Matematik för yrkeshögskolan\" by using Python. "
   ]
  },
  {
   "cell_type": "code",
   "execution_count": 47,
   "id": "89df88af-3668-4d98-a0a4-e6d92eea0f89",
   "metadata": {},
   "outputs": [
    {
     "name": "stdout",
     "output_type": "stream",
     "text": [
      "(a) Dimensionen av x: 1\n",
      "(b) 5x: [20 15]\n",
      "(c) 3x: [12  9]\n",
      "(d) 5x + 3x: [32 24]\n",
      "(e) 8x: [32 24]\n",
      "(f) 4x − x: [12  9]\n",
      "(g) x⊤: [4 3]\n",
      "Dimensionen efter transponering: 1\n",
      "(h) x + x⊤: [8 6]\n",
      "(i) ∥x∥: 5.0\n"
     ]
    }
   ],
   "source": [
    "import numpy as np\n",
    "\n",
    "# Definiera vektorn x\n",
    "x = np.array([4, 3])\n",
    "\n",
    "# (a) Dimensionen av vektorn x\n",
    "# x är en 1D-vektor\n",
    "print(f\"(a) Dimensionen av x: {x.ndim}\")\n",
    "\n",
    "# (b) Beräkna 5x\n",
    "# Multiplicera varje element i x med 5\n",
    "print(f\"(b) 5x: {5 * x}\")\n",
    "\n",
    "# (c) Beräkna 3x\n",
    "# Multiplicera varje element i x med 3\n",
    "print(f\"(c) 3x: {3 * x}\")\n",
    "\n",
    "# (d) Beräkna 5x + 3x\n",
    "# Addera 5x och 3x\n",
    "print(f\"(d) 5x + 3x: {5 * x + 3 * x}\")\n",
    "\n",
    "# (e) Beräkna 8x\n",
    "# Multiplicera varje element i x med 8\n",
    "print(f\"(e) 8x: {8 * x}\")\n",
    "\n",
    "# (f) Beräkna 4x − x\n",
    "# Subtrahera x från 4x\n",
    "print(f\"(f) 4x − x: {4 * x - x}\")\n",
    "\n",
    "# (g) Beräkna x⊤ (transponerad vektor)\n",
    "# Transponeringen ändrar inte en 1D-vektor\n",
    "x_transpose = x.T\n",
    "print(f\"(g) x⊤: {x_transpose}\")\n",
    "print(f\"Dimensionen efter transponering: {x_transpose.ndim}\")\n",
    "\n",
    "# (h) Är x + x⊤ definierat?\n",
    "# För 1D-vektorer går det inte att addera x och x⊤\n",
    "try:\n",
    "    result = x + x_transpose\n",
    "    print(f\"(h) x + x⊤: {result}\")\n",
    "except ValueError:\n",
    "    print(\"(h) x + x⊤ är inte definierat\")\n",
    "\n",
    "# (i) Beräkna ∥x∥ (normen av x)\n",
    "# Detta ger längden på vektorn\n",
    "print(f\"(i) ∥x∥: {np.linalg.norm(x)}\")\n"
   ]
  },
  {
   "cell_type": "code",
   "execution_count": 49,
   "id": "36d3b5ba-1f10-47cb-8160-620f0b4f4204",
   "metadata": {},
   "outputs": [
    {
     "name": "stdout",
     "output_type": "stream",
     "text": [
      "(a) Dimensionen av v: 1\n",
      "(b) 2v: [ 6 14  0 22]\n",
      "(c) 5v + 2v: [21 49  0 77]\n",
      "(d) 4v − 2v: [ 6 14  0 22]\n",
      "(e) v⊤: [ 3  7  0 11]\n",
      "Dimensionen efter transponering: 1\n",
      "(f) ∥v∥: 13.379088160259652\n"
     ]
    }
   ],
   "source": [
    "import numpy as np\n",
    "\n",
    "# Definiera vektorn v\n",
    "v = np.array([3, 7, 0, 11])\n",
    "\n",
    "# (a) Dimensionen av vektorn v\n",
    "# v är en 1D-vektor med 4 element\n",
    "print(f\"(a) Dimensionen av v: {v.ndim}\")\n",
    "\n",
    "# (b) Beräkna 2v\n",
    "# Multiplicera varje element i v med 2\n",
    "print(f\"(b) 2v: {2 * v}\")\n",
    "\n",
    "# (c) Beräkna 5v + 2v\n",
    "# Addera 5v och 2v\n",
    "print(f\"(c) 5v + 2v: {5 * v + 2 * v}\")\n",
    "\n",
    "# (d) Beräkna 4v − 2v\n",
    "# Subtrahera 2v från 4v\n",
    "print(f\"(d) 4v − 2v: {4 * v - 2 * v}\")\n",
    "\n",
    "# (e) Beräkna v⊤ (transponerad vektor)\n",
    "# Transponering gör vektorn om till en kolumnvektor\n",
    "v_transpose = v.T\n",
    "print(f\"(e) v⊤: {v_transpose}\")\n",
    "print(f\"Dimensionen efter transponering: {v_transpose.ndim}\")\n",
    "\n",
    "# (f) Beräkna ∥v∥ (normen av v)\n",
    "# Detta ger längden på vektorn\n",
    "print(f\"(f) ∥v∥: {np.linalg.norm(v)}\")\n"
   ]
  },
  {
   "cell_type": "code",
   "execution_count": 51,
   "id": "d12d4a29-32f0-420f-a5b4-40592277a929",
   "metadata": {},
   "outputs": [
    {
     "name": "stdout",
     "output_type": "stream",
     "text": [
      "(a) ∥v1∥: 7.14142842854285\n",
      "(b) ∥v1 − v2∥: 4.47213595499958\n"
     ]
    }
   ],
   "source": [
    "import numpy as np\n",
    "\n",
    "# Definiera vektorerna v1 och v2\n",
    "v1 = np.array([4, 3, 1, 5])\n",
    "v2 = np.array([2, 3, 1, 1])\n",
    "\n",
    "# (a) Beräkna ∥v1∥ (normen av v1)\n",
    "norm_v1 = np.linalg.norm(v1)\n",
    "print(f\"(a) ∥v1∥: {norm_v1}\")\n",
    "\n",
    "# (b) Beräkna ∥v1 − v2∥ (normen av skillnaden mellan v1 och v2)\n",
    "diff = v1 - v2\n",
    "norm_diff = np.linalg.norm(diff)\n",
    "print(f\"(b) ∥v1 − v2∥: {norm_diff}\")\n"
   ]
  },
  {
   "cell_type": "markdown",
   "id": "75c98984-1f88-4df1-b850-d2466de444a5",
   "metadata": {},
   "source": [
    "### Solve all the exercises, except 10.2.4, in chapter 10.2 in the book \"Matematik för yrkeshögskolan\" by using Python. "
   ]
  },
  {
   "cell_type": "code",
   "execution_count": 60,
   "id": "89702ad3-9bd4-4452-9598-5b929327a952",
   "metadata": {},
   "outputs": [],
   "source": [
    "import numpy as np\n",
    "\n",
    "# Definiera matriserna\n",
    "A = np.array([[2, 1, -1], [1, -1, 1]])\n",
    "B = np.array([[4, -2, 1], [2, -4, -2]])\n",
    "C = np.array([[1, 2], [2, 1]])\n",
    "D = np.array([[3, 4], [4, 3]])\n",
    "E = np.array([[1], [2]])\n",
    "I = np.array([[1, 0], [0, 1]])\n"
   ]
  },
  {
   "cell_type": "code",
   "execution_count": 62,
   "id": "45db6a4f-d354-47a2-a382-14aedc40c107",
   "metadata": {},
   "outputs": [
    {
     "name": "stdout",
     "output_type": "stream",
     "text": [
      "(a) 2A:\n",
      "[[ 4  2 -2]\n",
      " [ 2 -2  2]]\n",
      "\n"
     ]
    }
   ],
   "source": [
    "result_a = 2 * A\n",
    "print(f\"(a) 2A:\\n{result_a}\\n\")\n"
   ]
  },
  {
   "cell_type": "code",
   "execution_count": 64,
   "id": "85ffd693-6265-4646-89aa-1dca22f68359",
   "metadata": {},
   "outputs": [
    {
     "name": "stdout",
     "output_type": "stream",
     "text": [
      "(b) B - 2A:\n",
      "[[ 0 -4  3]\n",
      " [ 0 -2 -4]]\n",
      "\n"
     ]
    }
   ],
   "source": [
    "result_b = B - 2 * A\n",
    "print(f\"(b) B - 2A:\\n{result_b}\\n\")\n"
   ]
  },
  {
   "cell_type": "code",
   "execution_count": 66,
   "id": "d8b1c482-0770-4165-b3f0-909957f5ec7f",
   "metadata": {},
   "outputs": [
    {
     "name": "stdout",
     "output_type": "stream",
     "text": [
      "(c) 3C - 2E:\n",
      "[[ 1  4]\n",
      " [ 2 -1]]\n",
      "\n"
     ]
    }
   ],
   "source": [
    "result_c = 3 * C - 2 * E\n",
    "print(f\"(c) 3C - 2E:\\n{result_c}\\n\")\n"
   ]
  },
  {
   "cell_type": "code",
   "execution_count": 68,
   "id": "0398b930-8e02-4612-b292-1aedbe7cfcbc",
   "metadata": {},
   "outputs": [
    {
     "name": "stdout",
     "output_type": "stream",
     "text": [
      "(d) 2D - 3C:\n",
      "[[3 2]\n",
      " [2 3]]\n",
      "\n"
     ]
    }
   ],
   "source": [
    "result_d = 2 * D - 3 * C\n",
    "print(f\"(d) 2D - 3C:\\n{result_d}\\n\")\n"
   ]
  },
  {
   "cell_type": "code",
   "execution_count": 132,
   "id": "ad466b10-8701-4ba0-837d-6b19a8d7a932",
   "metadata": {},
   "outputs": [
    {
     "name": "stdout",
     "output_type": "stream",
     "text": [
      "(e) DT + 2D:\n",
      "[[ 9 12 17]\n",
      " [12  9 20]\n",
      " [19 22 27]]\n",
      "\n"
     ]
    }
   ],
   "source": [
    "result_e = D.T + 2 * D\n",
    "print(f\"(e) DT + 2D:\\n{result_e}\\n\")\n"
   ]
  },
  {
   "cell_type": "code",
   "execution_count": 146,
   "id": "28af79b3-b411-47a9-a416-60c51a37dff1",
   "metadata": {},
   "outputs": [
    {
     "name": "stdout",
     "output_type": "stream",
     "text": [
      "(f) 2C^T - 2D^T:\n",
      "[[-4 -4]\n",
      " [-4 -4]]\n",
      "\n"
     ]
    }
   ],
   "source": [
    "result_f = 2 * C.T - 2 * D.T\n",
    "print(f\"(f) 2C^T - 2D^T:\\n{result_f}\\n\")\n"
   ]
  },
  {
   "cell_type": "code",
   "execution_count": 84,
   "id": "e5ea58d5-f660-4f8b-8362-ee63c883138e",
   "metadata": {},
   "outputs": [
    {
     "name": "stdout",
     "output_type": "stream",
     "text": [
      "(g) AT - B:\n",
      "[[-2 -1]\n",
      " [ 3  3]\n",
      " [-2  3]]\n",
      "\n"
     ]
    }
   ],
   "source": [
    "result_g = A.T - B.T  # Använd BT istället för B ( kan subtrahera eftersom båda matriserna har samma dimensioner)\n",
    "print(f\"(g) AT - B:\\n{result_g}\\n\")\n"
   ]
  },
  {
   "cell_type": "code",
   "execution_count": 158,
   "id": "a17da346-1ce2-4ee1-9458-f77942999623",
   "metadata": {},
   "outputs": [
    {
     "name": "stdout",
     "output_type": "stream",
     "text": [
      "(h) AC:\n",
      "[[3.09734183 2.21984932 3.35019595]\n",
      " [2.48375344 2.73455577 5.60671134]]\n",
      "\n"
     ]
    }
   ],
   "source": [
    "C = np.array([[1, 2, 3], [2, 1, 4], [3, 2, 1]])  # Rätt dimension (3, 3)\n",
    "result_h = np.dot(A, C)  # Multiplicera A (2, 3) med C (3, 2)\n",
    "print(f\"(h) AC:\\n{result_h}\\n\")\n"
   ]
  },
  {
   "cell_type": "code",
   "execution_count": 102,
   "id": "b5befc47-6124-4d2c-8a87-e280e8e2aa7f",
   "metadata": {},
   "outputs": [
    {
     "name": "stdout",
     "output_type": "stream",
     "text": [
      "(i) CD:\n",
      "[[11 10]\n",
      " [10 11]]\n",
      "\n"
     ]
    }
   ],
   "source": [
    "result_i = np.dot(C, D)\n",
    "print(f\"(i) CD:\\n{result_i}\\n\")\n"
   ]
  },
  {
   "cell_type": "code",
   "execution_count": 120,
   "id": "26c8c964-4d28-4a2e-8467-30807222b5e9",
   "metadata": {},
   "outputs": [
    {
     "name": "stdout",
     "output_type": "stream",
     "text": [
      "(j) CB:\n",
      "[[  3 -12]\n",
      " [ 10  -8]\n",
      " [  9  -4]]\n",
      "\n"
     ]
    }
   ],
   "source": [
    "result_j = np.dot(C, B.T)  # Vi multiplicerar med B transponerad för att göra det möjligt\n",
    "print(f\"(j) CB:\\n{result_j}\\n\")"
   ]
  },
  {
   "cell_type": "code",
   "execution_count": 106,
   "id": "85593cd9-86b1-4227-9f45-f273f890150c",
   "metadata": {},
   "outputs": [
    {
     "name": "stdout",
     "output_type": "stream",
     "text": [
      "(k) CI:\n",
      "[[1 2]\n",
      " [2 1]]\n",
      "\n"
     ]
    }
   ],
   "source": [
    "result_k = np.dot(C, I)\n",
    "print(f\"(k) CI:\\n{result_k}\\n\")\n"
   ]
  },
  {
   "cell_type": "code",
   "execution_count": 108,
   "id": "7d8b78c6-e01e-401d-b559-ba63b724031c",
   "metadata": {},
   "outputs": [
    {
     "name": "stdout",
     "output_type": "stream",
     "text": [
      "(l) AB^T:\n",
      "[[5 2]\n",
      " [7 4]]\n",
      "\n"
     ]
    }
   ],
   "source": [
    "result_l = np.dot(A, B.T)\n",
    "print(f\"(l) AB^T:\\n{result_l}\\n\")\n"
   ]
  },
  {
   "cell_type": "code",
   "execution_count": 166,
   "id": "d348c8dc-ff7e-45f6-9c41-dae1a66b4096",
   "metadata": {},
   "outputs": [
    {
     "name": "stdout",
     "output_type": "stream",
     "text": [
      "Resultatet av A * A^T:\n",
      "[[29 26]\n",
      " [26 42]]\n"
     ]
    }
   ],
   "source": [
    "import numpy as np\n",
    "\n",
    "# Definiera matrisen A\n",
    "A = np.array([[2, 3, 4], [5, 4, 1]])\n",
    "\n",
    "# Multiplicera A med dess transponat (A^T)\n",
    "result = np.dot(A, A.T)\n",
    "\n",
    "# Visa resultatet\n",
    "print(\"Resultatet av A * A^T:\")\n",
    "print(result)\n"
   ]
  },
  {
   "cell_type": "code",
   "execution_count": 162,
   "id": "3232cdca-7c52-4c05-8c75-dcbaea0fa229",
   "metadata": {},
   "outputs": [
    {
     "name": "stdout",
     "output_type": "stream",
     "text": [
      "A * B:\n",
      "[[ 4  7]\n",
      " [ 8 14]]\n",
      "\n",
      "A * C:\n",
      "[[ 4  7]\n",
      " [ 8 14]]\n",
      "\n",
      "B och C är olika.\n"
     ]
    }
   ],
   "source": [
    "import numpy as np\n",
    "\n",
    "# Definiera matriserna A, B och C\n",
    "A = np.array([[1, 2], [2, 4]])\n",
    "B = np.array([[2, 1], [1, 3]])\n",
    "C = np.array([[4, 3], [0, 2]])\n",
    "\n",
    "# Beräkna produkterna AB och AC\n",
    "AB = np.dot(A, B)\n",
    "AC = np.dot(A, C)\n",
    "\n",
    "# Visa resultaten\n",
    "print(\"A * B:\")\n",
    "print(AB)\n",
    "\n",
    "print(\"\\nA * C:\")\n",
    "print(AC)\n",
    "\n",
    "# Kontrollera om B och C är lika\n",
    "if np.array_equal(B, C):\n",
    "    print(\"\\nB och C är lika.\")\n",
    "else:\n",
    "    print(\"\\nB och C är olika.\")\n"
   ]
  },
  {
   "cell_type": "markdown",
   "id": "6a4a524f",
   "metadata": {},
   "source": [
    "### Copies and Views\n",
    "Read the following link: https://numpy.org/doc/stable/user/basics.copies.html"
   ]
  },
  {
   "cell_type": "markdown",
   "id": "6cbbeaf7",
   "metadata": {},
   "source": [
    "**Basic indexing creates a view, How can you check if v1 and v2 is a view or copy? If you change the last element in v2 to 123, will the last element in v1 be changed? Why?**"
   ]
  },
  {
   "cell_type": "code",
   "execution_count": 41,
   "id": "5b9ef4df",
   "metadata": {},
   "outputs": [
    {
     "name": "stdout",
     "output_type": "stream",
     "text": [
      "[0 1 2 3]\n",
      "[2 3]\n"
     ]
    }
   ],
   "source": [
    "v1 = np.arange(4)\n",
    "v2 = v1[-2:]\n",
    "print(v1)\n",
    "print(v2)"
   ]
  },
  {
   "cell_type": "code",
   "execution_count": 43,
   "id": "d2440489",
   "metadata": {},
   "outputs": [
    {
     "name": "stdout",
     "output_type": "stream",
     "text": [
      "None\n",
      "[0 1 2 3]\n"
     ]
    }
   ],
   "source": [
    "# The base attribute of a view returns the original array while it returns None for a copy.\n",
    "print(v1.base)\n",
    "print(v2.base)"
   ]
  },
  {
   "cell_type": "code",
   "execution_count": 45,
   "id": "c8752807",
   "metadata": {},
   "outputs": [
    {
     "name": "stdout",
     "output_type": "stream",
     "text": [
      "[  0   1   2 123]\n",
      "[  2 123]\n"
     ]
    }
   ],
   "source": [
    "# The last element in v1 will be changed aswell since v2 is a view, meaning they share the same data buffer.\n",
    "v2[-1] = 123\n",
    "print(v1)\n",
    "print(v2)"
   ]
  },
  {
   "cell_type": "code",
   "execution_count": 172,
   "id": "3900cbb0-0274-43b8-b1d6-faab17450d3a",
   "metadata": {},
   "outputs": [
    {
     "name": "stdout",
     "output_type": "stream",
     "text": [
      "v1 innan ändring: [0 1 2 3]\n",
      "v2 innan ändring: [2 3]\n",
      "v2 är en vy av v1.\n",
      "\n",
      "v1 efter ändring: [  0   1   2 123]\n",
      "v2 efter ändring: [  2 123]\n"
     ]
    }
   ],
   "source": [
    "import numpy as np\n",
    "\n",
    "# Skapa en lista som vi kallar v1\n",
    "v1 = np.arange(4)  # Det här ger oss vektorn [0, 1, 2, 3]\n",
    "print(\"v1 innan ändring:\", v1)\n",
    "\n",
    "# Skapa en ny lista v2 som bara tar de sista två elementen från v1\n",
    "v2 = v1[-2:]  # v2 blir då [2, 3] och är en kopia som refererar till samma data som v1\n",
    "print(\"v2 innan ändring:\", v2)\n",
    "\n",
    "# Här kollar vi om v2 är en vy av v1 (dvs. de delar samma data)\n",
    "if v2.base is v1:\n",
    "    print(\"v2 är en vy av v1.\")  # Om det är samma data, betyder det att v2 är en vy\n",
    "else:\n",
    "    print(\"v2 är en kopia av v1.\")  # Om det inte är samma data, då är v2 en kopia\n",
    "\n",
    "# Nu ändrar vi det sista elementet i v2 till 123\n",
    "v2[-1] = 123  # Det här ändrar också det sista elementet i v1 eftersom de delar samma data\n",
    "print(\"\\nv1 efter ändring:\", v1)  # Vi kollar på v1 efter att ha ändrat v2\n",
    "print(\"v2 efter ändring:\", v2)  # Och v2 efter ändringen\n"
   ]
  }
 ],
 "metadata": {
  "kernelspec": {
   "display_name": "Python 3 (ipykernel)",
   "language": "python",
   "name": "python3"
  },
  "language_info": {
   "codemirror_mode": {
    "name": "ipython",
    "version": 3
   },
   "file_extension": ".py",
   "mimetype": "text/x-python",
   "name": "python",
   "nbconvert_exporter": "python",
   "pygments_lexer": "ipython3",
   "version": "3.12.7"
  }
 },
 "nbformat": 4,
 "nbformat_minor": 5
}
