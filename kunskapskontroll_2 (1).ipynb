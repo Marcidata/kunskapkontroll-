{
 "cells": [
  {
   "cell_type": "markdown",
   "metadata": {},
   "source": [
    "DATA24HEL_DBT25/Databastyper\n",
    "# Kunskapskontroll 2\n",
    "\n",
    "Gör kurserna i den här samlingen: [https://learn.microsoft.com/en-us/collections/3140s6twkorq6z?&sharingId=A70F2DF98827F6CC](https://learn.microsoft.com/en-us/collections/3140s6twkorq6z?&sharingId=A70F2DF98827F6CC)\n",
    "\n",
    "### OBS! Du behöver __inte__ göra *exercises*!\n",
    "\n",
    "Svara på frågorna nedan. Eftersom kurserna är på engelska har jag skrivit även frågorna på engelska. Det går bra att svara på svenska eller engelska.\n"
   ]
  },
  {
   "cell_type": "markdown",
   "metadata": {},
   "source": [
    "---\n",
    "## Microsoft Azure Data Fundamentals: Explore core data concepts\n",
    "### Explore core data concepts\n",
    "#### Identify data formats\n",
    "\n",
    "❓ What data format is often represented as JSON?"
   ]
  },
  {
   "cell_type": "markdown",
   "metadata": {},
   "source": [
    "✔️ Answer:"
   ]
  },
  {
   "cell_type": "markdown",
   "metadata": {},
   "source": [
    "JSON (JavaScript Object Notation) är ett format som ofta används för att representera halvstrukturerad data. Det används till exempel i API:er för att skicka data mellan en server och en klient, samt i konfigurationsfiler för olika program. JSON är populärt eftersom det är lätt att läsa och skriva både för människor och datorer."
   ]
  },
  {
   "cell_type": "markdown",
   "metadata": {},
   "source": [
    "❓ What data format is represented in a tabular format?"
   ]
  },
  {
   "cell_type": "markdown",
   "metadata": {},
   "source": [
    "✔️ Answer:"
   ]
  },
  {
   "cell_type": "markdown",
   "metadata": {},
   "source": [
    "Ett vanligt tabellformat är CSV (Comma-Separated Values) där data sparas i rader och kolumner med kommatecken som avgränsare. Excel-filer (XLSX) är också ett tabellformat som används ofta, särskilt i affärsanalys och rapportering. Tabellformat gör det enkelt att strukturera och analysera data."
   ]
  },
  {
   "cell_type": "markdown",
   "metadata": {},
   "source": [
    "❓ What is the data format of images, pdf-documents and binary files called?"
   ]
  },
  {
   "cell_type": "markdown",
   "metadata": {},
   "source": [
    "✔️ Answer:"
   ]
  },
  {
   "cell_type": "markdown",
   "metadata": {},
   "source": [
    "Bilder, PDF-dokument och binära filer kallas för binärdata. Det är data som inte är textbaserad och som ofta används för att lagra mediefiler eller dokument."
   ]
  },
  {
   "cell_type": "markdown",
   "metadata": {},
   "source": [
    "#### Explore file storage\n"
   ]
  },
  {
   "cell_type": "markdown",
   "metadata": {},
   "source": [
    "❓ Give an example of an optimized file format for structured and semi-structured data."
   ]
  },
  {
   "cell_type": "markdown",
   "metadata": {},
   "source": [
    "✔️ Answer:"
   ]
  },
  {
   "cell_type": "markdown",
   "metadata": {},
   "source": [
    "Ett optimerat filformat för strukturerad och halvstrukturerad data är Parquet. Det är ett kolumnbaserat format som är effektivt för lagring och bearbetning av stora datamängder."
   ]
  },
  {
   "cell_type": "markdown",
   "metadata": {},
   "source": [
    "#### Explore transactional data processing\n",
    "❓ What are OLTP systems designed for?\n"
   ]
  },
  {
   "cell_type": "markdown",
   "metadata": {},
   "source": [
    "✔️ Answer:"
   ]
  },
  {
   "cell_type": "markdown",
   "metadata": {},
   "source": [
    "OLTP-system (Online Transaction Processing) är designade för att hantera många korta transaktioner snabbt, som till exempel när du gör en köp på en webbutik eller uppdaterar en databas i realtid."
   ]
  },
  {
   "cell_type": "markdown",
   "metadata": {},
   "source": [
    "#### Explore analytical data processing\n",
    "❓ What are OLAP systems designed for?\n"
   ]
  },
  {
   "cell_type": "markdown",
   "metadata": {},
   "source": [
    "✔️ Answer:"
   ]
  },
  {
   "cell_type": "markdown",
   "metadata": {},
   "source": [
    "OLAP-system (Online Analytical Processing) är designade för att analysera stora mängder data och används ofta för affärsintelligens och rapportering. De är optimerade för att köra komplexa frågor på stora datamängder."
   ]
  },
  {
   "cell_type": "markdown",
   "metadata": {},
   "source": [
    "### Explore data roles and services\n",
    "#### Explore job roles in the world of data\n",
    "\n",
    "❓Describe some of the responsibilities of a:\n",
    "\n",
    "* Database Administrator\n",
    "* Data Engineer\n",
    "* Data Analyst"
   ]
  },
  {
   "cell_type": "markdown",
   "metadata": {},
   "source": [
    "✔️ Answer:"
   ]
  },
  {
   "cell_type": "markdown",
   "metadata": {},
   "source": [
    "*Database Administrator (DBA)\n",
    "/En DBA är ansvarig för att se till att databaser fungerar smidigt och säkert. Det innebär:\n",
    "Konfigurera och underhålla databaser.\n",
    "Säkerhetskopiera och återställa data vid behov.\n",
    "Säkerställa att databasen är säker och att rätt personer har åtkomst. / kortsagt = ser till att databaser fungerar\n",
    "\n",
    "*Data Engineer\n",
    "/En Data Engineer bygger och underhåller system för att hantera stora mängder data. Det innebär:\n",
    "Skapa pipelines för att flytta och omvandla data.\n",
    "Bygga infrastruktur för lagring och bearbetning av data.\n",
    "Samarbeta med andra team för att se till att data är tillgänglig för analys. / kortsagt = bygger system för datahantering\n",
    "\n",
    "*Data Analyst\n",
    "/En Data Analyst fokuserar på att analysera data för att hitta mönster och ge insikter. Det innebär:\n",
    "Samla in och rensa data för analys.\n",
    "Skapa rapporter och visualiseringar för att presentera resultat.\n",
    "Hjälpa företag att fatta beslut baserat på data. / kortsagt = analyserar data för insikter"
   ]
  },
  {
   "cell_type": "markdown",
   "metadata": {},
   "source": [
    "---\n",
    "## Microsoft Azure Data Fundamentals: Explore relational data in Azure\n",
    "### Explore fundamental relational data concepts\n",
    "\n",
    "❓ How is relational data commonly organized?"
   ]
  },
  {
   "cell_type": "markdown",
   "metadata": {},
   "source": [
    "✔️ Answer:"
   ]
  },
  {
   "cell_type": "markdown",
   "metadata": {},
   "source": [
    "Relationsdata är vanligtvis organiserad i tabeller som består av rader och kolumner. Varje tabell representerar en specifik entitet (t.ex. \"Kunder\" eller \"Beställningar\"), och relationer mellan tabeller skapas med hjälp av nycklar. En primärnyckel identifierar unikt varje rad i en tabell, medan en främmande nyckel länkar ihop data mellan olika tabeller."
   ]
  },
  {
   "cell_type": "markdown",
   "metadata": {},
   "source": [
    "❓ What are the main reasons for normalizing relational data?"
   ]
  },
  {
   "cell_type": "markdown",
   "metadata": {},
   "source": [
    "✔️ Answer:"
   ]
  },
  {
   "cell_type": "markdown",
   "metadata": {},
   "source": [
    "Normalisering av relationsdata görs främst för att:\n",
    "\n",
    "Minska redundans – Undvika att samma data lagras flera gånger.\n",
    "\n",
    "Förbättra dataintegriteten – Säkerställa att data är korrekt och konsekvent.\n",
    "\n",
    "Göra databasen mer effektiv – Förenkla databashantering och förbättra prestanda vid sökningar och uppdateringar."
   ]
  },
  {
   "cell_type": "markdown",
   "metadata": {},
   "source": [
    "### Explore relational database services in Azure\n",
    "\n",
    "❓ Which of the Azure SQL services requires you to manage configuration, backups, and other maintenance tasks yourself?"
   ]
  },
  {
   "cell_type": "markdown",
   "metadata": {},
   "source": [
    "✔️ Answer:"
   ]
  },
  {
   "cell_type": "markdown",
   "metadata": {},
   "source": [
    "Den Azure SQL-tjänst där man måste hantera konfiguration, säkerhetskopiering och underhåll själv är SQL Server på Azure Virtual Machines.\n",
    "\n",
    "Här är man ansvarig för allt, precis som med en egen server. De andra Azure SQL-tjänsterna, som Azure SQL Database och Azure SQL Managed Instance, är mer hanterade, så där tar Microsoft hand om mycket av underhållet."
   ]
  },
  {
   "cell_type": "markdown",
   "metadata": {},
   "source": [
    "---\n",
    "## Microsoft Azure Data Fundamentals: Explore non-relational data in Azure\n",
    "### Explore Azure blob storage\n",
    "\n",
    "❓ What are the three types of blob that Azure Blob Storage supports?"
   ]
  },
  {
   "cell_type": "markdown",
   "metadata": {},
   "source": [
    "✔️ Answer:"
   ]
  },
  {
   "cell_type": "markdown",
   "metadata": {},
   "source": [
    "Azure Blob Storage stöder tre typer av blobbar:\n",
    "\n",
    "Block Blobs – Används för att lagra text eller binärdata, som filer eller bilder.\n",
    "\n",
    "Page Blobs – Används för att lagra virtuella hårddiskar (VHD) för virtuella maskiner.\n",
    "\n",
    "Append Blobs – Används för att lägga till data i slutet av en fil, till exempel loggfiler."
   ]
  },
  {
   "cell_type": "markdown",
   "metadata": {},
   "source": [
    "### Explore fundamentals of Azure Cosmos DB\n",
    "#### Describe Azure Cosmos DB\n",
    "\n",
    "❓ Which data storage scenarios are Azure Cosmos DB suitable for? "
   ]
  },
  {
   "cell_type": "markdown",
   "metadata": {},
   "source": [
    "✔️ Answer:"
   ]
  },
  {
   "cell_type": "markdown",
   "metadata": {},
   "source": [
    "Azure Cosmos DB är lämpligt för scenarier där du behöver:\n",
    "\n",
    "Global skalbarhet – Data kan replikeras över flera regioner för snabb åtkomst över hela världen.\n",
    "\n",
    "Låg latens – Snabba svarstider för applikationer som kräver realtidsåtgärder.\n",
    "\n",
    "Flexibilitet – Stöd för olika datamodeller som dokument, nyckel-värde-par, grafer och kolumner."
   ]
  },
  {
   "cell_type": "markdown",
   "metadata": {},
   "source": [
    "#### Identify Azure Cosmos DB API\n",
    "\n",
    "❓ With Azure Cosmos DB for NoSQL you can use SQL syntax to make queries to a NoSQL database, but how are the results formatted?"
   ]
  },
  {
   "cell_type": "markdown",
   "metadata": {},
   "source": [
    "✔️ Answer:"
   ]
  },
  {
   "cell_type": "markdown",
   "metadata": {},
   "source": [
    "Resultaten från frågor i Azure Cosmos DB för NoSQL returneras vanligtvis i JSON-format. JSON är ett flexibelt och lättanvänt format som passar bra för halvstrukturerad data."
   ]
  },
  {
   "cell_type": "markdown",
   "metadata": {},
   "source": [
    "---\n",
    "## Explore fundamentals of large-scale analytics\n",
    "### Explore analytical data stores\n"
   ]
  },
  {
   "cell_type": "markdown",
   "metadata": {},
   "source": [
    "\n",
    "❓ What kind of analytical data store should you choose when you have structured data?"
   ]
  },
  {
   "cell_type": "markdown",
   "metadata": {},
   "source": [
    "✔️ Answer:"
   ]
  },
  {
   "cell_type": "markdown",
   "metadata": {},
   "source": [
    "När du har strukturerad data är ett data warehouse det bästa valet. Det är optimerat för att hantera stora mängder strukturerad data och används ofta för affärsintelligens och rapportering."
   ]
  },
  {
   "cell_type": "markdown",
   "metadata": {},
   "source": [
    "❓ What kind of analytical data store should you choose when you have a mix of structured, semi-structured and unstructured data?"
   ]
  },
  {
   "cell_type": "markdown",
   "metadata": {},
   "source": [
    "✔️ Answer:"
   ]
  },
  {
   "cell_type": "markdown",
   "metadata": {},
   "source": [
    "När du har en blandning av strukturerad, halvstrukturerad och ostrukturerad data är ett data lake det bästa valet. Data lake är designat för att lagra och analysera alla typer av data i stora mängder."
   ]
  },
  {
   "cell_type": "markdown",
   "metadata": {},
   "source": [
    "❓ What is a hybrid data store that combines features of data lakes and data warehouses called?"
   ]
  },
  {
   "cell_type": "markdown",
   "metadata": {},
   "source": [
    "✔️ Answer:"
   ]
  },
  {
   "cell_type": "markdown",
   "metadata": {},
   "source": [
    "En hybridlösning som kombinerar funktioner från data lakes och data warehouses kallas för ett data lakehouse. Det ger flexibiliteten hos ett data lake och prestandan hos ett data warehouse."
   ]
  },
  {
   "cell_type": "markdown",
   "metadata": {},
   "source": [
    "---\n",
    "## Store Data in Azure\n",
    "### Choose a data storage apporach in Azure\n",
    "#### Classify your data"
   ]
  },
  {
   "cell_type": "markdown",
   "metadata": {},
   "source": [
    "❓ How is business data classified?"
   ]
  },
  {
   "cell_type": "markdown",
   "metadata": {},
   "source": [
    "✔️ Answer:\n"
   ]
  },
  {
   "cell_type": "markdown",
   "metadata": {},
   "source": [
    "Affärsdata klassificeras vanligtvis som transaktionsdata eller analysdata. Transaktionsdata används för dagliga operationer (t.ex. orderhantering), medan analysdata används för att göra affärsbeslut (t.ex. rapporter och trendanalyser)."
   ]
  },
  {
   "cell_type": "markdown",
   "metadata": {},
   "source": [
    "\n",
    "❓ How is data for a product catalog classified?"
   ]
  },
  {
   "cell_type": "markdown",
   "metadata": {},
   "source": [
    "✔️ Answer:\n"
   ]
  },
  {
   "cell_type": "markdown",
   "metadata": {},
   "source": [
    "Data för en produktkatalog klassificeras vanligtvis som strukturerad data eftersom den är organiserad i tabeller med tydliga fält som produkt-ID, namn, pris och beskrivning."
   ]
  },
  {
   "cell_type": "markdown",
   "metadata": {},
   "source": [
    "❓ How is data representing photos and videos classified?"
   ]
  },
  {
   "cell_type": "markdown",
   "metadata": {},
   "source": [
    "✔️ Answer:\n"
   ]
  },
  {
   "cell_type": "markdown",
   "metadata": {},
   "source": [
    "Data som representerar foton och videor klassificeras som ostrukturerad data eftersom det inte finns någon fast struktur eller schema för hur data är organiserad."
   ]
  },
  {
   "cell_type": "markdown",
   "metadata": {},
   "source": [
    "#### Group multiple operations in a transaction\n",
    "\n",
    "❓ What is ACID?"
   ]
  },
  {
   "cell_type": "markdown",
   "metadata": {},
   "source": [
    "✔️ Answer:\n"
   ]
  },
  {
   "cell_type": "markdown",
   "metadata": {},
   "source": [
    "ACID är en förkortning som står för fyra viktiga egenskaper som säkerställer tillförlitlighet i databastransaktioner:\n",
    "\n",
    "Atomicity (Atomäritet) – En transaktion är en \"atom\", vilket betyder att den antingen utförs helt eller inte alls. Om en del av transaktionen misslyckas, återställs allt.\n",
    "\n",
    "Consistency (Konsistens) – Transaktioner måste lämna databasen i ett konsekvent tillstånd, enligt de regler som gäller för databasen.\n",
    "\n",
    "Isolation (Isolering) – Transaktioner ska köras isolerat från varandra, så att de inte stör varandra.\n",
    "\n",
    "Durability (Varaktighet) – När en transaktion är klar, ska resultatet vara beständigt, även vid systemkrasch."
   ]
  },
  {
   "cell_type": "markdown",
   "metadata": {},
   "source": [
    "❓ Which of the three datasets (product catalog, photos and videos, business data) is transactional?"
   ]
  },
  {
   "cell_type": "markdown",
   "metadata": {},
   "source": [
    "✔️ Answer:\n"
   ]
  },
  {
   "cell_type": "markdown",
   "metadata": {},
   "source": [
    "Av de tre datamängderna (**produktkatalog, foton och videor, affärsdata**) är det **affärsdata** som är transaktionell. \n",
    "\n",
    "Transaktionell data handlar om affärshändelser, som t.ex. köp, försäljning eller beställningar. Den här typen av data ändras ofta och behöver hanteras noggrant. Produktkataloger och foton/videor är mer statiska och ändras inte lika ofta."
   ]
  },
  {
   "cell_type": "markdown",
   "metadata": {},
   "source": [
    "#### Choose a storage solution in Azure"
   ]
  },
  {
   "cell_type": "markdown",
   "metadata": {},
   "source": [
    "❓ What is the recommended service for a semi-structured dataset that needs a high number of both read and write operations?"
   ]
  },
  {
   "cell_type": "markdown",
   "metadata": {},
   "source": [
    "✔️ Answer:\n"
   ]
  },
  {
   "cell_type": "markdown",
   "metadata": {},
   "source": [
    "För halvstrukturerad data som kräver många läs- och skrivoperationer rekommenderas Azure Cosmos DB. Det är en NoSQL-databas som är optimerad för snabba och globalt skalbara applikationer."
   ]
  },
  {
   "cell_type": "markdown",
   "metadata": {},
   "source": [
    "❓ What is the recommended service for a structured dataset that will be used for analytical purposes only?"
   ]
  },
  {
   "cell_type": "markdown",
   "metadata": {},
   "source": [
    "✔️ Answer:\n"
   ]
  },
  {
   "cell_type": "markdown",
   "metadata": {},
   "source": [
    "För strukturerad data som ska användas för analys rekommenderas Azure Synapse Analytics (tidigare SQL Data Warehouse). Det är ett kraftfullt verktyg för att analysera stora mängder data."
   ]
  },
  {
   "cell_type": "markdown",
   "metadata": {},
   "source": [
    "### Create an Azure Storage Account\n",
    "#### Decide how many storage accounts you need"
   ]
  },
  {
   "cell_type": "markdown",
   "metadata": {},
   "source": [
    "❓ What is the difference between Hot and Cold access tiers?"
   ]
  },
  {
   "cell_type": "markdown",
   "metadata": {},
   "source": [
    "✔️ Answer:"
   ]
  },
  {
   "cell_type": "markdown",
   "metadata": {},
   "source": [
    "Skillnaden mellan Hot och Cold access tiers handlar om hur ofta man behöver komma åt data och vad det kostar.\n",
    "\n",
    "Hot: Används för data som man behöver komma åt ofta. Det är snabbare att hämta data här, men det kostar mer att lagra den.\n",
    "\n",
    "Cold: Används för data som man sällan behöver, t.ex. gamla backup-filer. Det tar längre tid att hämta data här, men det är billigare att lagra den."
   ]
  },
  {
   "cell_type": "markdown",
   "metadata": {},
   "source": [
    "#### Choose your account settings"
   ]
  },
  {
   "cell_type": "markdown",
   "metadata": {},
   "source": [
    "❓ When creating an Azure Storage Account, which deployment model should you choose?"
   ]
  },
  {
   "cell_type": "markdown",
   "metadata": {},
   "source": [
    "✔️ Answer:\n"
   ]
  },
  {
   "cell_type": "markdown",
   "metadata": {},
   "source": [
    "När du skapar ett Azure Storage-konto bör du välja Resource Manager som distributionsmodell. Det är den modernaste och mest flexibla modellen som stöder de senaste funktionerna i Azure."
   ]
  },
  {
   "cell_type": "markdown",
   "metadata": {},
   "source": [
    "#### Choose an account creation tool"
   ]
  },
  {
   "cell_type": "markdown",
   "metadata": {},
   "source": [
    "❓ The most commonly used account creation tool is the Azure Portal. Why?"
   ]
  },
  {
   "cell_type": "markdown",
   "metadata": {},
   "source": [
    "✔️ Answer:\n"
   ]
  },
  {
   "cell_type": "markdown",
   "metadata": {},
   "source": [
    "Azure Portal är det vanligaste verktyget för att skapa lagringskonton eftersom det är användarvänligt och ger en visuell gränssnitt där du enkelt kan konfigurera och hantera dina resurser. Det är också lätt att använda för nybörjare."
   ]
  },
  {
   "cell_type": "markdown",
   "metadata": {},
   "source": [
    "### Secure your Azure Storage account\n",
    "#### Explore Azure Storage security features"
   ]
  },
  {
   "cell_type": "markdown",
   "metadata": {},
   "source": [
    "❓ How do you disable encryption at rest?"
   ]
  },
  {
   "cell_type": "markdown",
   "metadata": {},
   "source": [
    "✔️ Answer:\n"
   ]
  },
  {
   "cell_type": "markdown",
   "metadata": {},
   "source": [
    "Kryptering vid vila (encryption at rest) är aktiverat som standard i Azure Storage och kan inte inaktiveras. Detta är en säkerhetsfunktion som skyddar dina data automatiskt."
   ]
  },
  {
   "cell_type": "markdown",
   "metadata": {},
   "source": [
    "❓ What happens if you require *secure transfer* for your storage account?"
   ]
  },
  {
   "cell_type": "markdown",
   "metadata": {},
   "source": [
    "✔️ Answer:\n"
   ]
  },
  {
   "cell_type": "markdown",
   "metadata": {},
   "source": [
    "Om du kräver säker överföring (secure transfer) för ditt lagringskonto måste all kommunikation till och från lagringskontot ske via HTTPS. Detta skyddar data under överföring från avlyssning eller attacker."
   ]
  },
  {
   "cell_type": "markdown",
   "metadata": {},
   "source": [
    "❓ What is CORS?"
   ]
  },
  {
   "cell_type": "markdown",
   "metadata": {},
   "source": [
    "✔️ Answer:\n"
   ]
  },
  {
   "cell_type": "markdown",
   "metadata": {},
   "source": [
    "CORS (Cross-Origin Resource Sharing) är en säkerhetsmekanism som tillåter webbläsare att begära resurser från en domän till en annan. I Azure Storage används CORS för att tillåta att webbapplikationer på en domän kan komma åt resurser i ett lagringskonto på en annan domän."
   ]
  },
  {
   "cell_type": "markdown",
   "metadata": {},
   "source": [
    "❓ Which Azure service can you use to audit accesses to your data?"
   ]
  },
  {
   "cell_type": "markdown",
   "metadata": {},
   "source": [
    "✔️ Answer:\n"
   ]
  },
  {
   "cell_type": "markdown",
   "metadata": {},
   "source": [
    "Du kan använda Azure Storage Analytics eller Azure Monitor för att granska och övervaka åtkomsten till dina data. Dessa verktyg ger loggar och rapporter om vem som har åtkomst till dina data och när."
   ]
  },
  {
   "cell_type": "markdown",
   "metadata": {},
   "source": [
    "#### Understand storage account keys"
   ]
  },
  {
   "cell_type": "markdown",
   "metadata": {},
   "source": [
    "❓ Which authentication option is the best for Blob and Queue storage?"
   ]
  },
  {
   "cell_type": "markdown",
   "metadata": {},
   "source": [
    "✔️ Answer:\n"
   ]
  },
  {
   "cell_type": "markdown",
   "metadata": {},
   "source": [
    "Den bästa autentiseringsmetoden för Blob- och Queue-lagring är att använda Shared Access Signatures (SAS). SAS ger tidsbegränsad och begränsad åtkomst till specifika resurser utan att dela dina lagringskontonycklar."
   ]
  },
  {
   "cell_type": "markdown",
   "metadata": {},
   "source": [
    "#### Understand shared access signatures (SAS)"
   ]
  },
  {
   "cell_type": "markdown",
   "metadata": {},
   "source": [
    "❓ What are the two levels of SAS?"
   ]
  },
  {
   "cell_type": "markdown",
   "metadata": {},
   "source": [
    "De två nivåerna av SAS (Shared Access Signature) är:\n",
    "\n",
    "Service-level SAS: Ger åtkomst till en specifik tjänst i ett lagringskonto, t.ex. bara blobbar eller filer.\n",
    "\n",
    "Account-level SAS: Ger åtkomst till flera tjänster i ett lagringskonto, t.ex. blobbar, filer och köer samtidigt."
   ]
  },
  {
   "cell_type": "markdown",
   "metadata": {},
   "source": [
    "✔️ Answer:\n"
   ]
  },
  {
   "cell_type": "markdown",
   "metadata": {},
   "source": [
    "#### Control network access to your storage account"
   ]
  },
  {
   "cell_type": "markdown",
   "metadata": {},
   "source": [
    "❓ What must you do before you change the default network access action from *grant* to *deny*?"
   ]
  },
  {
   "cell_type": "markdown",
   "metadata": {},
   "source": [
    "✔️ Answer:\n"
   ]
  },
  {
   "cell_type": "markdown",
   "metadata": {},
   "source": [
    "Innan du ändrar standardåtgärden för nätverksåtkomst från tillåt till neka måste du lägga till undantag för de IP-adresser eller virtuella nätverk som fortfarande ska ha åtkomst. Annars kan legitima användare eller tjänster bli blockerade."
   ]
  },
  {
   "cell_type": "markdown",
   "metadata": {},
   "source": [
    "### Store application data with Azure Blob Storage\n",
    "#### What are blobs?"
   ]
  },
  {
   "cell_type": "markdown",
   "metadata": {},
   "source": [
    "❓ What kind of data can't be stored as a blob?"
   ]
  },
  {
   "cell_type": "markdown",
   "metadata": {},
   "source": [
    "✔️ Answer:\n"
   ]
  },
  {
   "cell_type": "markdown",
   "metadata": {},
   "source": [
    "Data som kräver realtidsbearbetning eller som behöver lagras i en strukturerad databas (t.ex. relationsdata) bör inte lagras som en blob. Blobbar är bäst för ostrukturerad eller halvstrukturerad data som filer, bilder eller loggar."
   ]
  },
  {
   "cell_type": "markdown",
   "metadata": {},
   "source": [
    "❓ What kind of data shouldn't be stored as a blob?"
   ]
  },
  {
   "cell_type": "markdown",
   "metadata": {},
   "source": [
    "✔️ Answer:\n"
   ]
  },
  {
   "cell_type": "markdown",
   "metadata": {},
   "source": [
    "Data som kräver komplexa frågor eller transaktioner (t.ex. databaser för e-handel) bör inte lagras som blobbar. Blobbar är inte optimerade för sådana användningsfall."
   ]
  },
  {
   "cell_type": "markdown",
   "metadata": {},
   "source": [
    "---\n",
    "## Integrate data with Azure Data Factory or Azure Synapse Pipeline\n",
    "### Understand Azure Data Factory"
   ]
  },
  {
   "cell_type": "markdown",
   "metadata": {},
   "source": [
    "❓ Which part of the symphony orchestra does Azure Data Factory play, according to the analogy?"
   ]
  },
  {
   "cell_type": "markdown",
   "metadata": {},
   "source": [
    "✔️ Answer:"
   ]
  },
  {
   "cell_type": "markdown",
   "metadata": {},
   "source": [
    "Enligt analogin spelar Azure Data Factory rollen som dirigenten i en symfoniorkester.\n",
    "\n",
    "Precis som en dirigent koordinerar och styr musiker för att skapa musik, så koordinerar Azure Data Factory olika datatjänster och processer för att flytta och omvandla data på rätt sätt."
   ]
  },
  {
   "cell_type": "markdown",
   "metadata": {},
   "source": [
    "#### Describe data integration patterns"
   ]
  },
  {
   "cell_type": "markdown",
   "metadata": {},
   "source": [
    "❓ What does ETL stand for?"
   ]
  },
  {
   "cell_type": "markdown",
   "metadata": {},
   "source": [
    "✔️ Answer:\n"
   ]
  },
  {
   "cell_type": "markdown",
   "metadata": {},
   "source": [
    "ETL står för Extract, Transform, Load (Extrahera, Transformera, Ladda). Det är en process där data hämtas från källor, omvandlas till ett lämpligt format och sedan laddas till ett mål (t.ex. en databas eller ett data warehouse)."
   ]
  },
  {
   "cell_type": "markdown",
   "metadata": {},
   "source": [
    "❓ What does ELT stand for?"
   ]
  },
  {
   "cell_type": "markdown",
   "metadata": {},
   "source": [
    "✔️ Answer:\n"
   ]
  },
  {
   "cell_type": "markdown",
   "metadata": {},
   "source": [
    "ELT står för Extract, Load, Transform (Extrahera, Ladda, Transformera). Här laddas data först till målet (t.ex. ett data lake) och sedan omvandlas den där. Detta är vanligt i moderna datalösningar där målet har kraftfulla bearbetningsmöjligheter."
   ]
  },
  {
   "cell_type": "markdown",
   "metadata": {},
   "source": [
    "❓ What is the difference between ETL and ELT?"
   ]
  },
  {
   "cell_type": "markdown",
   "metadata": {},
   "source": [
    "✔️ Answer:\n"
   ]
  },
  {
   "cell_type": "markdown",
   "metadata": {},
   "source": [
    "Skillnaden mellan ETL och ELT handlar om i vilken ordning data bearbetas:\n",
    "\n",
    "ETL (Extract, Transform, Load):\n",
    "Data hämtas (Extract), omvandlas (Transform) och sedan laddas till ett mål (Load). Detta används ofta när datan måste renas eller ändras innan den sparas.\n",
    "\n",
    "ELT (Extract, Load, Transform):\n",
    "Data hämtas (Extract), laddas direkt till ett mål (Load) och sedan omvandlas (Transform). Detta används ofta i moderna system där målet (t.ex. ett moln) har kraft nog att hantera omvandlingen."
   ]
  },
  {
   "cell_type": "markdown",
   "metadata": {},
   "source": [
    "#### Create Data Factory activities and pipelines"
   ]
  },
  {
   "cell_type": "markdown",
   "metadata": {},
   "source": [
    "❓ Which are the three categories of Azure Data factory activities?"
   ]
  },
  {
   "cell_type": "markdown",
   "metadata": {},
   "source": [
    "✔️ Answer:\n"
   ]
  },
  {
   "cell_type": "markdown",
   "metadata": {},
   "source": [
    "De tre kategorierna av aktiviteter i Azure Data Factory är:\n",
    "\n",
    "Data Movement: Flytta data från ett ställe till ett annat, t.ex. från en databas till ett data warehouse.\n",
    "\n",
    "Data Transformation: Omvandla eller bearbeta data, t.ex. med hjälp av verktyg som Databricks eller HDInsight.\n",
    "\n",
    "Control: Styra och koordinera andra aktiviteter, t.ex. schemalägga när saker ska hända eller hantera beroenden mellan olika steg."
   ]
  },
  {
   "cell_type": "markdown",
   "metadata": {},
   "source": [
    "---\n",
    "## Large-scale data processing with Azure Data Lake Storage Gen2\n",
    "### Introduction to Azure Data Lake Storage Gen2\n",
    "#### Understand Azure Data Lake Storage Gen2"
   ]
  },
  {
   "cell_type": "markdown",
   "metadata": {},
   "source": [
    "❓ Which format is data stored in in a data lake?"
   ]
  },
  {
   "cell_type": "markdown",
   "metadata": {},
   "source": [
    "✔️ Answer:\n"
   ]
  },
  {
   "cell_type": "markdown",
   "metadata": {},
   "source": [
    "I ett data lake lagras data vanligtvis i sitt ursprungliga format, oavsett om det är strukturerat, halvstrukturerat eller ostrukturerat. Exempel på format inkluderar CSV, JSON, Parquet och ORC."
   ]
  },
  {
   "cell_type": "markdown",
   "metadata": {},
   "source": [
    "❓ Which factors should influence the planning of a data lake?"
   ]
  },
  {
   "cell_type": "markdown",
   "metadata": {},
   "source": [
    "✔️ Answer:\n"
   ]
  },
  {
   "cell_type": "markdown",
   "metadata": {},
   "source": [
    "När man planerar ett data lake bör man tänka på:\n",
    "\n",
    "Datatyper: Vilken typ av data ska lagras (strukturerad, ostrukturerad, etc.)?\n",
    "\n",
    "Storage: Hur mycket data ska lagras och vilken lagringsnivå (Hot, Cool, Cold) passar bäst?\n",
    "\n",
    "Säkerhet: Hur ska datan skyddas (åtkomstkontroll, kryptering, etc.)?\n",
    "\n",
    "Organisation: Hur ska datan organiseras och kategoriseras för att vara lätt att hitta?\n",
    "\n",
    "Kostnad: Vilken budget finns och hur kan man optimera kostnader?"
   ]
  },
  {
   "cell_type": "markdown",
   "metadata": {},
   "source": [
    "#### Enable Azure Data Lake storage Gen2 in Azure Storage"
   ]
  },
  {
   "cell_type": "markdown",
   "metadata": {},
   "source": [
    "❓ What is the name of the option that enables Azure Data Lake Storage Gen2?"
   ]
  },
  {
   "cell_type": "markdown",
   "metadata": {},
   "source": [
    "✔️ Answer:\n"
   ]
  },
  {
   "cell_type": "markdown",
   "metadata": {},
   "source": [
    "Alternativet för att aktivera Azure Data Lake Storage Gen2 kallas Hierarchical Namespace (Hierarkiskt namnområde). Detta gör det möjligt att organisera data i en mappstruktur, vilket är viktigt för storskalig dataanalys."
   ]
  },
  {
   "cell_type": "markdown",
   "metadata": {},
   "source": [
    "#### Compare Azure Data Lake Storage and Azure Blob storage"
   ]
  },
  {
   "cell_type": "markdown",
   "metadata": {},
   "source": [
    "❓ What is the main difference between Azure Data Lake Storage and Azure Blob storage?"
   ]
  },
  {
   "cell_type": "markdown",
   "metadata": {},
   "source": [
    "✔️ Answer:\n"
   ]
  },
  {
   "cell_type": "markdown",
   "metadata": {},
   "source": [
    "Den största skillnaden mellan Azure Data Lake Storage och Azure Blob Storage är vad de är gjorda för:\n",
    "\n",
    "Azure Data Lake Storage:\n",
    "Är optimerat för storskalig dataanalys och hanterar både strukturerad och ostrukturerad data. Det är perfekt för big data- och analysarbete.\n",
    "\n",
    "Azure Blob Storage:\n",
    "Är mer generellt och används för att lagra stora mängder ostrukturerad data, som bilder, filer eller backup. Det är inte lika specialiserat för analys."
   ]
  },
  {
   "cell_type": "markdown",
   "metadata": {},
   "source": [
    "❓ What kind of storage account should you use to store website assets such as images and videos?"
   ]
  },
  {
   "cell_type": "markdown",
   "metadata": {},
   "source": [
    "✔️ Answer:\n"
   ]
  },
  {
   "cell_type": "markdown",
   "metadata": {},
   "source": [
    "För att lagra webbplatsresurser som bilder och videor bör du använda Azure Blob Storage. Det är optimerat för att hantera statiskt innehåll och tillhandahålla snabb åtkomst via webben."
   ]
  },
  {
   "cell_type": "markdown",
   "metadata": {},
   "source": [
    "❓ What kind of storage account should you use to store data that you wih to perform analytics on?"
   ]
  },
  {
   "cell_type": "markdown",
   "metadata": {},
   "source": [
    "✔️ Answer:\n"
   ]
  },
  {
   "cell_type": "markdown",
   "metadata": {},
   "source": [
    "För data som ska användas för analys bör du använda Azure Data Lake Storage Gen2. Det är designat för storskalig dataanalys och stöder avancerade funktioner som hierarkiskt namnområde och integrering med analysverktyg som Azure Databricks och Synapse Analytics."
   ]
  },
  {
   "cell_type": "markdown",
   "metadata": {},
   "source": [
    "#### Use Azure Data Lake Storage Gen2 in data analytics workloads"
   ]
  },
  {
   "cell_type": "markdown",
   "metadata": {},
   "source": [
    "❓ What are the three \"v's\" that are involved when processing big data?"
   ]
  },
  {
   "cell_type": "markdown",
   "metadata": {},
   "source": [
    "✔️ Answer:\n"
   ]
  },
  {
   "cell_type": "markdown",
   "metadata": {},
   "source": [
    "De tre \"V:en \" som är viktiga när man hanterar big data är:\n",
    "\n",
    "Volume (Mängd): Det handlar om hur mycket data som ska hanteras. Big data innebär ofta enorma mängder information.\n",
    "\n",
    "Velocity (Hastighet): Det handlar om hur snabbt data skapas och behöver bearbetas, t.ex. i realtid.\n",
    "\n",
    "Variety (Mångfald): Det handlar om olika typer av data, som strukturerad, ostrukturerad eller halvstrukturerad data."
   ]
  }
 ],
 "metadata": {
  "kernelspec": {
   "display_name": "Python 3 (ipykernel)",
   "language": "python",
   "name": "python3",
   "path": "/home/linus/.local/share/jupyter/kernels/python3"
  }
 },
 "nbformat": 4,
 "nbformat_minor": 4
}
