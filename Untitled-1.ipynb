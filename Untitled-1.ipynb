{
 "cells": [
  {
   "cell_type": "code",
   "execution_count": 65,
   "metadata": {},
   "outputs": [
    {
     "name": "stdout",
     "output_type": "stream",
     "text": [
      "      work_year                             job_title  job_category  \\\n",
      "0          2022  Machine Learning Engineer  in office      Analysis   \n",
      "1          2020                Statistician  (Remote)         ML/AI   \n",
      "2          2022           Machine Learning Engineer           ML/AI   \n",
      "3          2022               Data Analyst  in office         ML/AI   \n",
      "4          2020                        Statistician    Data Science   \n",
      "...         ...                                   ...           ...   \n",
      "4995       2020   Machine Learning Engineer  (Remote)           NaN   \n",
      "4996       2021   Machine Learning Engineer  (Remote)           NaN   \n",
      "4997       2022           Machine Learning Engineer        Analysis   \n",
      "4998       2021                        Statistician    Data Science   \n",
      "4999       2020              Data Scientist  (Remote)   Engineering   \n",
      "\n",
      "     salary_currency  salary  salary_in_usd employee_residence  \\\n",
      "0                EUR  186597         136086                 US   \n",
      "1                JPY  110630          67982                 JP   \n",
      "2                INR   61280         153309                 UK   \n",
      "3                JPY  154130         135242                 DE   \n",
      "4                EUR  172312          35156                 UK   \n",
      "...              ...     ...            ...                ...   \n",
      "4995             NaN  179769         179111                 UK   \n",
      "4996             NaN  184642         196373                 CN   \n",
      "4997             GBP  135319          51366                 UK   \n",
      "4998             EUR   58037         181817                 US   \n",
      "4999             GBP  143565         172425                 CN   \n",
      "\n",
      "     experience_level employment_type work_setting company_location  \\\n",
      "0                  MI              CT       Remote               DE   \n",
      "1                  EX              FL       Remote               IN   \n",
      "2                  MI              CT       Hybrid               CN   \n",
      "3                  SE              FT       Hybrid               MX   \n",
      "4                  MI              FT    In-person               UK   \n",
      "...               ...             ...          ...              ...   \n",
      "4995              NaN              CT    In-person               IN   \n",
      "4996              NaN              FL       Remote               UK   \n",
      "4997               EN              FL       Hybrid               JP   \n",
      "4998               MI              PT       Remote               DE   \n",
      "4999               EX              CT       Remote               CN   \n",
      "\n",
      "     company_size  \n",
      "0               L  \n",
      "1               M  \n",
      "2               L  \n",
      "3               L  \n",
      "4               S  \n",
      "...           ...  \n",
      "4995          NaN  \n",
      "4996          NaN  \n",
      "4997            M  \n",
      "4998            S  \n",
      "4999            L  \n",
      "\n",
      "[5000 rows x 12 columns]\n"
     ]
    }
   ],
   "source": [
    "import pandas as pd \n",
    "import sqlite3\n",
    "\n",
    "df = pandas.read_csv(\"data_science_job.csv\")\n",
    "\n",
    "print(df)"
   ]
  },
  {
   "cell_type": "code",
   "execution_count": 32,
   "metadata": {},
   "outputs": [
    {
     "name": "stdout",
     "output_type": "stream",
     "text": [
      "Kolumner i filen: Index(['work_year', 'job_title', 'job_category', 'salary_currency', 'salary',\n",
      "       'salary_in_usd', 'employee_residence', 'experience_level',\n",
      "       'employment_type', 'work_setting', 'company_location', 'company_size',\n",
      "       'salary_in_thousands'],\n",
      "      dtype='object')\n"
     ]
    }
   ],
   "source": [
    "print(\"Kolumner i filen:\", df.columns)"
   ]
  },
  {
   "cell_type": "code",
   "execution_count": 34,
   "metadata": {},
   "outputs": [
    {
     "name": "stdout",
     "output_type": "stream",
     "text": [
      "Kolumnen 'start_date' saknas! En dummy-kolumn skapas.\n"
     ]
    }
   ],
   "source": [
    "if 'start_date' not in df.columns:\n",
    "    print(\"Kolumnen 'start_date' saknas! En dummy-kolumn skapas.\")\n",
    "    df['start_date'] = pd.NaT"
   ]
  },
  {
   "cell_type": "code",
   "execution_count": 29,
   "metadata": {},
   "outputs": [],
   "source": [
    "df = df[df['salary'] > 50000]"
   ]
  },
  {
   "cell_type": "code",
   "execution_count": 30,
   "metadata": {},
   "outputs": [],
   "source": [
    "df['salary_in_thousands'] = df['salary'] / 1000"
   ]
  },
  {
   "cell_type": "code",
   "execution_count": 35,
   "metadata": {},
   "outputs": [],
   "source": [
    "df['start_date'] = pd.to_datetime(df['start_date'], errors='coerce')"
   ]
  },
  {
   "cell_type": "code",
   "execution_count": 36,
   "metadata": {},
   "outputs": [],
   "source": [
    "df['start_date'] = df['start_date'].fillna(pd.Timestamp.today())"
   ]
  },
  {
   "cell_type": "code",
   "execution_count": 37,
   "metadata": {},
   "outputs": [],
   "source": [
    "df['start_year'] = df['start_date'].dt.year"
   ]
  },
  {
   "cell_type": "code",
   "execution_count": 38,
   "metadata": {},
   "outputs": [],
   "source": [
    "df['start_month'] = df['start_date'].dt.month"
   ]
  },
  {
   "cell_type": "code",
   "execution_count": 39,
   "metadata": {},
   "outputs": [],
   "source": [
    "df = df[df['start_year'] >= 2000]"
   ]
  },
  {
   "cell_type": "code",
   "execution_count": 41,
   "metadata": {},
   "outputs": [],
   "source": [
    "df['salary_category'] = pd.cut(\n",
    "    df['salary'],\n",
    "    bins=[0, 60000, 100000, float('inf')],\n",
    "    labels=['Low', 'Medium', 'High']\n",
    ")"
   ]
  },
  {
   "cell_type": "code",
   "execution_count": 42,
   "metadata": {},
   "outputs": [],
   "source": [
    "df['job_title'] = df['job_title'].str.lower()"
   ]
  },
  {
   "cell_type": "code",
   "execution_count": 43,
   "metadata": {},
   "outputs": [],
   "source": [
    "df['job_title_length'] = df['job_title'].str.len()"
   ]
  },
  {
   "cell_type": "code",
   "execution_count": 44,
   "metadata": {},
   "outputs": [],
   "source": [
    "df = df.sort_values(by='salary', ascending=False)"
   ]
  },
  {
   "cell_type": "code",
   "execution_count": 45,
   "metadata": {},
   "outputs": [
    {
     "name": "stdout",
     "output_type": "stream",
     "text": [
      "      work_year                            job_title  job_category  \\\n",
      "1811       2020              data engineer  (remote)         ML/AI   \n",
      "1981       2021                      data engineer        Analysis   \n",
      "2466       2020  machine learning engineer  (remote)  Data Science   \n",
      "3926       2021                       data analyst           ML/AI   \n",
      "4120       2021              data engineer  (remote)           NaN   \n",
      "\n",
      "     salary_currency  salary  salary_in_usd employee_residence  \\\n",
      "1811             INR  199924          63135                 CN   \n",
      "1981             EUR  199914          69355                 CN   \n",
      "2466             INR  199839         167711                 IN   \n",
      "3926             EUR  199823         112536                 UK   \n",
      "4120             NaN  199810         171148                 US   \n",
      "\n",
      "     experience_level employment_type work_setting company_location  \\\n",
      "1811               EX              FT       Hybrid               MX   \n",
      "1981               EX              FT       Hybrid               MX   \n",
      "2466               EX              CT    In-person               IN   \n",
      "3926               SE              FT       Hybrid               CN   \n",
      "4120              NaN              CT       Hybrid               CN   \n",
      "\n",
      "     company_size  salary_in_thousands                 start_date  start_year  \\\n",
      "1811            S              199.924 2024-12-19 16:48:14.044771        2024   \n",
      "1981            S              199.914 2024-12-19 16:48:14.044771        2024   \n",
      "2466            L              199.839 2024-12-19 16:48:14.044771        2024   \n",
      "3926            M              199.823 2024-12-19 16:48:14.044771        2024   \n",
      "4120          NaN              199.810 2024-12-19 16:48:14.044771        2024   \n",
      "\n",
      "      start_month salary_category  job_title_length  \n",
      "1811           12            High                23  \n",
      "1981           12            High                15  \n",
      "2466           12            High                35  \n",
      "3926           12            High                14  \n",
      "4120           12            High                23  \n"
     ]
    }
   ],
   "source": [
    "print(df.head())"
   ]
  },
  {
   "cell_type": "code",
   "execution_count": null,
   "metadata": {},
   "outputs": [
    {
     "name": "stderr",
     "output_type": "stream",
     "text": [
      "2024-12-23 01:31:59,416 - INFO - Startar hantering av data.\n",
      "2024-12-23 01:31:59,427 - INFO - Tillgängliga kolumner: ['work_year', 'job_title', 'job_category', 'salary_currency', 'salary', 'salary_in_usd', 'employee_residence', 'experience_level', 'employment_type', 'work_setting', 'company_location', 'company_size']\n",
      "2024-12-23 01:31:59,428 - WARNING - Kolumnen 'start_date' saknas! En dummy-kolumn skapas.\n",
      "2024-12-23 01:31:59,514 - INFO - Data har bearbetats och sparats i databasen.\n",
      "2024-12-23 01:31:59,515 - INFO - Databasanslutningen har stängts.\n"
     ]
    },
    {
     "name": "stdout",
     "output_type": "stream",
     "text": [
      "      work_year                            job_title  job_category  \\\n",
      "1811       2020              data engineer  (remote)         ML/AI   \n",
      "1981       2021                      data engineer        Analysis   \n",
      "2466       2020  machine learning engineer  (remote)  Data Science   \n",
      "3926       2021                       data analyst           ML/AI   \n",
      "4120       2021              data engineer  (remote)           NaN   \n",
      "\n",
      "     salary_currency  salary  salary_in_usd employee_residence  \\\n",
      "1811             INR  199924          63135                 CN   \n",
      "1981             EUR  199914          69355                 CN   \n",
      "2466             INR  199839         167711                 IN   \n",
      "3926             EUR  199823         112536                 UK   \n",
      "4120             NaN  199810         171148                 US   \n",
      "\n",
      "     experience_level employment_type work_setting company_location  \\\n",
      "1811               EX              FT       Hybrid               MX   \n",
      "1981               EX              FT       Hybrid               MX   \n",
      "2466               EX              CT    In-person               IN   \n",
      "3926               SE              FT       Hybrid               CN   \n",
      "4120              NaN              CT       Hybrid               CN   \n",
      "\n",
      "     company_size                 start_date  salary_in_thousands  start_year  \\\n",
      "1811            S 2024-12-23 01:31:59.463021              199.924        2024   \n",
      "1981            S 2024-12-23 01:31:59.463021              199.914        2024   \n",
      "2466            L 2024-12-23 01:31:59.463021              199.839        2024   \n",
      "3926            M 2024-12-23 01:31:59.463021              199.823        2024   \n",
      "4120          NaN 2024-12-23 01:31:59.463021              199.810        2024   \n",
      "\n",
      "      start_month salary_category  job_title_length  \n",
      "1811           12            High                23  \n",
      "1981           12            High                15  \n",
      "2466           12            High                35  \n",
      "3926           12            High                14  \n",
      "4120           12            High                23  \n"
     ]
    }
   ],
   "source": [
    "import pandas as pd  \n",
    "import logging  \n",
    "import sqlite3  \n",
    "\n",
    "logging.basicConfig(  \n",
    "    filename='data_sciens_job.txt',  \n",
    "    format='%(asctime)s - %(levelname)s - %(message)s',  \n",
    "    level=logging.INFO  \n",
    ")  \n",
    "\n",
    "logger = logging.getLogger()  \n",
    "logger.info('Startar hantering av data.')  \n",
    "\n",
    "try:  \n",
    "    df = pd.read_csv(\"data_science_job.csv\")  \n",
    "    logger.info('Tillgängliga kolumner: %s', df.columns.tolist())  \n",
    "    \n",
    "    if 'salary' not in df.columns:  \n",
    "        logger.error(\"Kolumnen 'salary' saknas.\")  \n",
    "        raise KeyError(\"Kolumnen 'salary' saknas.\")  \n",
    "    \n",
    "    if 'start_date' not in df.columns:  \n",
    "        logger.warning(\"Kolumnen 'start_date' saknas! En dummy-kolumn skapas.\")  \n",
    "        df['start_date'] = pd.NaT  # Skapa en dummy-kolumn  \n",
    "\n",
    "    df = df[df['salary'] > 50000]  \n",
    "\n",
    "    df['salary_in_thousands'] = df['salary'] / 1000  \n",
    "    \n",
    "    df['start_date'] = pd.to_datetime(df['start_date'], errors='coerce')  \n",
    "    df['start_date'] = df['start_date'].fillna(pd.Timestamp.today())  \n",
    "    df['start_year'] = df['start_date'].dt.year  \n",
    "    df['start_month'] = df['start_date'].dt.month  \n",
    "    df = df[df['start_year'] >= 2000]  \n",
    "\n",
    "    df['salary_category'] = pd.cut(  \n",
    "        df['salary'],  \n",
    "        bins=[0, 60000, 100000, float('inf')],  \n",
    "        labels=['Low', 'Medium', 'High']  \n",
    "    )  \n",
    "\n",
    "    df['job_title'] = df['job_title'].str.lower()  \n",
    "    df['job_title_length'] = df['job_title'].str.len()  \n",
    "    \n",
    "    df = df.sort_values(by='salary', ascending=False)  \n",
    "    \n",
    "    print(df.head())  \n",
    "    \n",
    "    con = sqlite3.connect(\"data_science_job.db\")  \n",
    "    \n",
    "    df.to_sql(\"filtered_data\", con, if_exists=\"replace\", index=False)  \n",
    "    \n",
    "    logger.info('Data har bearbetats och sparats i databasen.')  \n",
    "\n",
    "except Exception as e:  \n",
    "    logger.error('Ett fel uppstod: %s', e)  \n",
    "    print(\"Fel! Kontrollera loggen.\")  \n",
    "\n",
    "finally:  \n",
    "    if 'con' in locals():  \n",
    "        con.close()  \n",
    "        logger.info(\"Databasanslutningen har stängts.\")\n",
    "        "
   ]
  }
 ],
 "metadata": {
  "kernelspec": {
   "display_name": "base",
   "language": "python",
   "name": "python3"
  },
  "language_info": {
   "codemirror_mode": {
    "name": "ipython",
    "version": 3
   },
   "file_extension": ".py",
   "mimetype": "text/x-python",
   "name": "python",
   "nbconvert_exporter": "python",
   "pygments_lexer": "ipython3",
   "version": "3.12.7"
  }
 },
 "nbformat": 4,
 "nbformat_minor": 2
}
