{
 "cells": [
  {
   "cell_type": "markdown",
   "metadata": {},
   "source": [
    "1. models.py — Definiera modellerna (Customer, Account, Bank, Transaction)\n"
   ]
  },
  {
   "cell_type": "code",
   "execution_count": null,
   "metadata": {},
   "outputs": [],
   "source": [
    "from sqlalchemy import Column, Integer, String, Float, ForeignKey, DateTime\n",
    "from sqlalchemy.orm import relationship, declarative_base\n",
    "import datetime\n",
    "\n",
    "Base = declarative_base()\n",
    "\n",
    "class Bank(Base):\n",
    "    __tablename__ = 'banks'\n",
    "    id = Column(Integer, primary_key=True)\n",
    "    name = Column(String, nullable=False)\n",
    "\n",
    "    accounts = relationship(\"Account\", back_populates=\"bank\")\n",
    "\n",
    "class Customer(Base):\n",
    "    __tablename__ = 'customers'\n",
    "    id = Column(Integer, primary_key=True)\n",
    "    name = Column(String, nullable=False)\n",
    "    email = Column(String, unique=True)\n",
    "\n",
    "    accounts = relationship(\"Account\", back_populates=\"customer\")\n",
    "\n",
    "class Account(Base):\n",
    "    __tablename__ = 'accounts'\n",
    "    id = Column(Integer, primary_key=True)\n",
    "    account_number = Column(String, unique=True)\n",
    "    balance = Column(Float, default=0.0)\n",
    "\n",
    "    customer_id = Column(Integer, ForeignKey('customers.id'))\n",
    "    bank_id = Column(Integer, ForeignKey('banks.id'))\n",
    "\n",
    "    customer = relationship(\"Customer\", back_populates=\"accounts\")\n",
    "    bank = relationship(\"Bank\", back_populates=\"accounts\")\n",
    "    transactions = relationship(\"Transaction\", back_populates=\"account\")\n",
    "\n",
    "class Transaction(Base):\n",
    "    __tablename__ = 'transactions'\n",
    "    id = Column(Integer, primary_key=True)\n",
    "    amount = Column(Float, nullable=False)\n",
    "    timestamp = Column(DateTime, default=datetime.datetime.utcnow)\n",
    "\n",
    "    account_id = Column(Integer, ForeignKey('accounts.id'))\n",
    "    account = relationship(\"Account\", back_populates=\"transactions\")\n"
   ]
  },
  {
   "cell_type": "markdown",
   "metadata": {},
   "source": [
    "2. Koppla models.py till Alembic i env.py"
   ]
  },
  {
   "cell_type": "code",
   "execution_count": null,
   "metadata": {},
   "outputs": [],
   "source": [
    "from myproject.models import Base  # Ändra 'myproject' till  mapp\n",
    "target_metadata = Base.metadata\n"
   ]
  },
  {
   "cell_type": "markdown",
   "metadata": {},
   "source": [
    "3. Enkel testfil main.py för att testa att allt fungerar\n"
   ]
  },
  {
   "cell_type": "code",
   "execution_count": null,
   "metadata": {},
   "outputs": [],
   "source": [
    "from sqlalchemy import create_engine\n",
    "from sqlalchemy.orm import sessionmaker\n",
    "from models import Base, Bank, Customer, Account, Transaction\n",
    "\n",
    "# Skapa databasanslutning (byt ut URL till din DB, här används SQLite för test)\n",
    "engine = create_engine('sqlite:///bank.db')\n",
    "\n",
    "# Skapa tabeller (om de inte finns)\n",
    "Base.metadata.create_all(engine)\n",
    "\n",
    "Session = sessionmaker(bind=engine)\n",
    "session = Session()\n",
    "\n",
    "# Skapa testdata\n",
    "bank = Bank(name=\"TestBank\")\n",
    "customer = Customer(name=\"Anna Andersson\", email=\"anna@example.com\")\n",
    "account = Account(account_number=\"1234567890\", balance=1000.0, customer=customer, bank=bank)\n",
    "transaction = Transaction(amount=250.0, account=account)\n",
    "\n",
    "# Lägg till och spara i databasen\n",
    "session.add(bank)\n",
    "session.add(customer)\n",
    "session.add(account)\n",
    "session.add(transaction)\n",
    "session.commit()\n",
    "\n",
    "# Hämta och skriv ut för att verifiera\n",
    "for acc in session.query(Account).all():\n",
    "    print(f\"Account {acc.account_number} with balance {acc.balance} belongs to {acc.customer.name} at {acc.bank.name}\")\n",
    "\n",
    "session.close()\n"
   ]
  }
 ],
 "metadata": {
  "language_info": {
   "name": "python"
  }
 },
 "nbformat": 4,
 "nbformat_minor": 2
}
